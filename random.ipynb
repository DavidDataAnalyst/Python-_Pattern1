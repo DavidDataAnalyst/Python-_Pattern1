{
  "nbformat": 4,
  "nbformat_minor": 0,
  "metadata": {
    "colab": {
      "provenance": []
    },
    "kernelspec": {
      "name": "python3",
      "display_name": "Python 3"
    },
    "language_info": {
      "name": "python"
    }
  },
  "cells": [
    {
      "cell_type": "code",
      "execution_count": null,
      "metadata": {
        "colab": {
          "base_uri": "https://localhost:8080/"
        },
        "id": "wZX77Bv7gYKK",
        "outputId": "40c1fda1-5e4a-472a-b95e-5c19f5aa30cd"
      },
      "outputs": [
        {
          "output_type": "stream",
          "name": "stdout",
          "text": [
            "42\n"
          ]
        }
      ],
      "source": [
        "#select random integer\n",
        "import random\n",
        "int=random.randint(1,100)\n",
        "print(int)"
      ]
    },
    {
      "cell_type": "code",
      "source": [
        "#select random float number\n",
        "import random\n",
        "flt=random.random()\n",
        "#by default the range is 0<=x<1\n",
        "print(flt)"
      ],
      "metadata": {
        "colab": {
          "base_uri": "https://localhost:8080/"
        },
        "id": "v_ySTf1JywDR",
        "outputId": "b2bcaa75-a5a3-4673-e0da-b427336b78d4"
      },
      "execution_count": null,
      "outputs": [
        {
          "output_type": "stream",
          "name": "stdout",
          "text": [
            "0.6418754842984331\n"
          ]
        }
      ]
    },
    {
      "cell_type": "code",
      "source": [
        "#select random float number within a specific range\n",
        "import random\n",
        "flt=random.uniform(3.5,5.6)\n",
        "print(flt)"
      ],
      "metadata": {
        "colab": {
          "base_uri": "https://localhost:8080/"
        },
        "id": "NAi5f--o0lYP",
        "outputId": "7bacf230-1091-4adf-9fd6-62d2da9a9693"
      },
      "execution_count": null,
      "outputs": [
        {
          "output_type": "stream",
          "name": "stdout",
          "text": [
            "4.016575941205684\n"
          ]
        }
      ]
    },
    {
      "cell_type": "code",
      "source": [
        "#shuffle a list\n",
        "import random\n",
        "a=[1,2,3,4,5,6]\n",
        "random.shuffle(a)\n",
        "print(a)\n"
      ],
      "metadata": {
        "colab": {
          "base_uri": "https://localhost:8080/"
        },
        "id": "P4Kbr06c55n7",
        "outputId": "e5829480-d6ea-4bee-dfce-3b45959bab51"
      },
      "execution_count": null,
      "outputs": [
        {
          "output_type": "stream",
          "name": "stdout",
          "text": [
            "[2, 1, 4, 6, 3, 5]\n"
          ]
        }
      ]
    },
    {
      "cell_type": "code",
      "source": [
        "#select a sample\n",
        "import random\n",
        "my_list = [1,2,3,4,'david','babiyan']\n",
        "samp = random.sample(my_list,3)\n",
        "print(samp)"
      ],
      "metadata": {
        "colab": {
          "base_uri": "https://localhost:8080/"
        },
        "id": "smqgiU6y679u",
        "outputId": "5371cd6a-382b-4098-d6a4-7154e9a99804"
      },
      "execution_count": null,
      "outputs": [
        {
          "output_type": "stream",
          "name": "stdout",
          "text": [
            "[2, 1, 'david']\n"
          ]
        }
      ]
    },
    {
      "cell_type": "code",
      "source": [
        "#randomly select the name to pay the bill\n",
        "import random\n",
        "name = ['david', 'srinath', 'cyril', 'babiyan', 'valan', 'vimal', 'jobel']\n",
        "count = len(name)\n",
        "random_choice = random.randint(0,count-1)\n",
        "print(name[random_choice], \"is going to pay the total bill!\")"
      ],
      "metadata": {
        "colab": {
          "base_uri": "https://localhost:8080/"
        },
        "id": "9wPCpmaAytsD",
        "outputId": "0656a96b-2fe6-4bcc-9081-eb848af672c1"
      },
      "execution_count": null,
      "outputs": [
        {
          "output_type": "stream",
          "name": "stdout",
          "text": [
            "david is going to pay the total bill!\n"
          ]
        }
      ]
    },
    {
      "cell_type": "code",
      "source": [
        "#randomly select the name using choice function to pay the bill\n",
        "import random\n",
        "name = ['david', 'srinath', 'cyril', 'babiyan', 'valan', 'vimal', 'jobel']\n",
        "random_choice = random.choice(name)\n",
        "print(random_choice, \"is going to pay the total bill!\")"
      ],
      "metadata": {
        "colab": {
          "base_uri": "https://localhost:8080/"
        },
        "id": "6DGB406m41o3",
        "outputId": "fe09ce59-066b-429d-a358-da1c34149567"
      },
      "execution_count": null,
      "outputs": [
        {
          "output_type": "stream",
          "name": "stdout",
          "text": [
            "babiyan is going to pay the total bill!\n"
          ]
        }
      ]
    }
  ]
}